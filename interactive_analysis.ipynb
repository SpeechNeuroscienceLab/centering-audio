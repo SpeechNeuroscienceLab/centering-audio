{
 "cells": [
  {
   "metadata": {},
   "cell_type": "markdown",
   "source": "# Interactive Analysis Notebook",
   "id": "d7017077f73aa557"
  },
  {
   "cell_type": "code",
   "id": "initial_id",
   "metadata": {
    "collapsed": true,
    "ExecuteTime": {
     "end_time": "2025-03-05T18:26:25.262551Z",
     "start_time": "2025-03-05T18:26:24.053594Z"
    }
   },
   "source": [
    "# Import packages and dependencies\n",
    "import time\n",
    "import matplotlib\n",
    "from matplotlib import pyplot as plt\n",
    "import os\n",
    "from pathlib import Path\n",
    "from pipeline import pipeline\n",
    "from analysis import *\n",
    "import figure\n",
    "from subject_analysis import Dataset, Cohort, Subject\n",
    "import compute_ld_centering"
   ],
   "outputs": [],
   "execution_count": 1
  },
  {
   "metadata": {
    "ExecuteTime": {
     "end_time": "2025-03-05T18:26:25.270641Z",
     "start_time": "2025-03-05T18:26:25.265046Z"
    }
   },
   "cell_type": "code",
   "source": [
    "RESEARCH_DIR = Path(\"/Users/anantajit/Documents/UCSF\")\n",
    "COHORT = \\\n",
    "    \"LD/FullDataset\"\n",
    "SOURCE_FILE = \\\n",
    "    \"raw_dataset.mat\"\n",
    "DEMOGRAPHICS_FILE = \\\n",
    "    \"demographics.csv\"\n",
    "SOURCE_STRUCT = \\\n",
    "    \"LD_Patients\"\n",
    "\n",
    "INPUT_PATH = RESEARCH_DIR / \"datasets\" / COHORT\n",
    "DEMOGRAPHICS_PATH = INPUT_PATH / DEMOGRAPHICS_FILE\n",
    "OUTPUT_PATH = RESEARCH_DIR / \"results\" / COHORT\n",
    "CACHE_PATH = RESEARCH_DIR / \"results\" / COHORT / \"cache\"\n",
    "\n",
    "FORCE_ANALYSIS = False\n",
    "\n",
    "DPI = 300\n",
    "plot_settings = {\n",
    "    \"plot_order\": [\"Controls\", \"LD Patients\"],\n",
    "    \"colormap\": {\n",
    "        \"LOWER\": \"#1f77b4\",\n",
    "        \"CENTRAL\": \"#ff7f0e\",\n",
    "        \"UPPER\": \"#2ca02c\"\n",
    "    },\n",
    "\n",
    "    \"error-color\": \"black\",\n",
    "    \"line-width\": 1.5,\n",
    "    \"error-cap-size\": 10,\n",
    "    \"error-line-style\": '',\n",
    "    \"font_size\": 14,\n",
    "    \"font_family\": \"Times New Roman\",\n",
    "\n",
    "    \"motion_lw\": 2.0,\n",
    "    \"motion_alpha\": 0.75,\n",
    "\n",
    "    \"annotation_padding\": 2\n",
    "}\n",
    "\n",
    "trimming_pipeline = [\n",
    "        trim_by_subject_trial_count,  # remove subjects with <25 trials\n",
    "        trim_by_group_initial_pitch_distribution,  # remove trials which have initial pitch deviation >2std from mean\n",
    "        (trim_by_subject_name,\n",
    "         dict(exclude=[(\"LD Patients\", \"20170516\"), (\"LD Patients\", \"20170307\")])\n",
    "         ),\n",
    "        rename_subjects_by_group  # is this strictly necessary?\n",
    "    ]"
   ],
   "id": "510ebd61c358a7f7",
   "outputs": [],
   "execution_count": 2
  },
  {
   "metadata": {
    "ExecuteTime": {
     "end_time": "2025-03-05T18:26:25.500432Z",
     "start_time": "2025-03-05T18:26:25.272Z"
    }
   },
   "cell_type": "code",
   "source": [
    "ld = Dataset(str(INPUT_PATH / SOURCE_FILE), SOURCE_STRUCT)\n",
    "demographics = pd.read_csv(DEMOGRAPHICS_PATH)\n",
    "\n",
    "if FORCE_ANALYSIS or not (Path(CACHE_PATH) / \"centering_data.csv\").is_file():\n",
    "    compute_ld_centering.gen_centering_csv(dataset=ld, OUTPUT_PATH=OUTPUT_PATH, CACHE_PATH=CACHE_PATH)\n",
    "\n",
    "if FORCE_ANALYSIS or not (Path(CACHE_PATH / \"trimmed_dataset.csv\").is_file()\n",
    "                          and Path(CACHE_PATH / \"peripheral_dataset.csv\").is_file()):\n",
    "    compute_ld_centering.gen_centering_analysis(demographics=demographics, CACHE_PATH=CACHE_PATH)\n",
    "\n",
    "# TODO: move plotting code into more accessible cells here\n",
    "# compute_ld_centering.gen_group_figures(dataset=ld, CACHE_PATH=CACHE_PATH, OUTPUT_PATH=OUTPUT_PATH, plot_settings=plot_settings, DPI=DPI)\n",
    "\n",
    "# compute_ld_centering.gen_subject_figures(dataset=ld, CACHE_PATH=CACHE_PATH, OUTPUT_PATH=OUTPUT_PATH, plot_settings=plot_settings, DPI=DPI)\n",
    "\n",
    "output_dataset = pd.read_csv(CACHE_PATH / \"peripheral_dataset.csv\")\n",
    "print(output_dataset.columns)\n",
    "\n",
    "print(output_dataset[\"Group Name\"].unique())\n",
    "\n",
    "plot_settings[\"colormap\"] = {\n",
    "    \"Controls\": {\n",
    "        \"UPPER\": \"#1f77b4\",\n",
    "        \"CENTRAL\": \"#ff7f0e\",\n",
    "        \"LOWER\": \"#2ca02c\"\n",
    "    },\n",
    "    \"LD Patients\": {\n",
    "        \"UPPER\": \"#d62728\",\n",
    "        \"CENTRAL\": \"#9467bd\",\n",
    "        \"LOWER\": \"#8c564b\"\n",
    "    }\n",
    "}\n",
    "\n",
    "fig, ax = plt.subplots(1, 1)\n",
    "figure.group_pitch_magnitude_comparison(output_dataset, fig, plot_settings, (\"LD Patients\", \"Controls\"))\n",
    "plt.show()"
   ],
   "id": "54e7a3f966aaf8e2",
   "outputs": [
    {
     "name": "stdout",
     "output_type": "stream",
     "text": [
      "Index(['index', 'Group Name', 'Subject Name', 'Starting Pitch (Cents)',\n",
      "       'Ending Pitch (Cents)', 'Centering (Cents)', 'Age', 'Tercile',\n",
      "       'Pitch Movement', 'Normalized Pitch Movement'],\n",
      "      dtype='object')\n",
      "['LD Patients' 'Controls']\n",
      "Group: LD Patients has 938 rows\n",
      "Subgroup: LOWER has 472 rows\n",
      "Subgroup: UPPER has 466 rows\n",
      "Group: Controls has 1605 rows\n",
      "Subgroup: LOWER has 807 rows\n",
      "Subgroup: UPPER has 798 rows\n"
     ]
    },
    {
     "data": {
      "text/plain": [
       "<Figure size 640x480 with 1 Axes>"
      ],
      "image/png": "[encoded data removed]"
     },
     "metadata": {},
     "output_type": "display_data"
    }
   ],
   "execution_count": 3
  },
  {
   "metadata": {
    "ExecuteTime": {
     "end_time": "2025-03-05T18:26:25.504305Z",
     "start_time": "2025-03-05T18:26:25.502056Z"
    }
   },
   "cell_type": "code",
   "source": "",
   "id": "44fca0b636c4bfdc",
   "outputs": [],
   "execution_count": 3
  }
 ],
 "metadata": {
  "kernelspec": {
   "display_name": "Python 3",
   "language": "python",
   "name": "python3"
  },
  "language_info": {
   "codemirror_mode": {
    "name": "ipython",
    "version": 2
   },
   "file_extension": ".py",
   "mimetype": "text/x-python",
   "name": "python",
   "nbconvert_exporter": "python",
   "pygments_lexer": "ipython2",
   "version": "2.7.6"
  }
 },
 "nbformat": 4,
 "nbformat_minor": 5
}
